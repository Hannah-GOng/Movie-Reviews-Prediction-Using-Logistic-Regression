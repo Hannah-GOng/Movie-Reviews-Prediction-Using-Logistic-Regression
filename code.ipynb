{
 "cells": [
  {
   "cell_type": "markdown",
   "metadata": {},
   "source": [
    "## Assignment 3: Use Logistic Regression to predict postive and negative film reviews\n",
    "Our second assignment will have us write code to tokenize movie reviews and predict positive or negative labels.\n",
    "\n",
    "In this assignment, you will\n",
    "1. Import reviews into a dataframe, along with labels\n",
    "2. Split your data in to testing and training sets\n",
    "3. Transform the raw data into matrices with TF-IDF values\n",
    "4. Train a logistic regression model\n",
    "5. Compute precision, recall, and F1 scores\n",
    "6. Plot precision-recall curve\n",
    "7. Plot ROC curve\n",
    "8. Summarize your work, results, and conclusions.\n",
    "\n",
    "Feel free to start simple and try to improve your model results with more sophisticated preparation of the data, but you must use logistic regression.\n",
    "\n",
    "Due Date: 2020-10-09 5 pm ET\n",
    "\n",
    "Please submit your completed assignment through GradeScope. You should submit a PDF of your notebook with all output."
   ]
  },
  {
   "cell_type": "markdown",
   "metadata": {},
   "source": [
    "### Preliminaries:\n",
    "import standard libraries"
   ]
  },
  {
   "cell_type": "code",
   "execution_count": 12,
   "metadata": {},
   "outputs": [],
   "source": [
    "# you may want to import standard libraries here\n",
    "..."
   ]
  },
  {
   "cell_type": "markdown",
   "metadata": {},
   "source": [
    "**Read in the reviews**"
   ]
  },
  {
   "cell_type": "code",
   "execution_count": 20,
   "metadata": {},
   "outputs": [],
   "source": [
    "import glob\n",
    "\n",
    "# read in reviews from the NLTK corpora directory\n",
    "datadir = '/Users/jch121/nltk_data/corpora/movie_reviews'\n",
    "neg     = datadir + '/neg/'\n",
    "pos     = datadir + '/pos/'\n",
    "\n",
    "posarr  = []\n",
    "negarr  = []\n",
    "\n",
    "pfiles = [f for f in glob.glob(pos + \"*.txt\", recursive=False)]\n",
    "nfiles = [f for f in glob.glob(neg + \"*.txt\", recursive=False)]\n",
    "for f in pfiles:\n",
    "    with open(f) as my_file:\n",
    "        posarr.append(my_file.read().replace('\\n',''))\n",
    "for f in nfiles:\n",
    "    with open(f) as my_file:\n",
    "        negarr.append(my_file.read().replace('\\n',''))"
   ]
  },
  {
   "cell_type": "markdown",
   "metadata": {},
   "source": [
    "### 1. Create a dataframe with labels for positive and negative\n",
    "Your dataframe should have 2 columns:\n",
    "* **doc** contains the raw text from teh review\n",
    "* **label** contains 0 (negative) or 1(positive)"
   ]
  },
  {
   "cell_type": "code",
   "execution_count": 21,
   "metadata": {},
   "outputs": [],
   "source": []
  },
  {
   "cell_type": "code",
   "execution_count": 22,
   "metadata": {},
   "outputs": [
    {
     "data": {
      "text/html": [
       "<div>\n",
       "<style scoped>\n",
       "    .dataframe tbody tr th:only-of-type {\n",
       "        vertical-align: middle;\n",
       "    }\n",
       "\n",
       "    .dataframe tbody tr th {\n",
       "        vertical-align: top;\n",
       "    }\n",
       "\n",
       "    .dataframe thead th {\n",
       "        text-align: right;\n",
       "    }\n",
       "</style>\n",
       "<table border=\"1\" class=\"dataframe\">\n",
       "  <thead>\n",
       "    <tr style=\"text-align: right;\">\n",
       "      <th></th>\n",
       "      <th>doc</th>\n",
       "      <th>label</th>\n",
       "    </tr>\n",
       "  </thead>\n",
       "  <tbody>\n",
       "    <tr>\n",
       "      <th>0</th>\n",
       "      <td>assume nothing . the phrase is perhaps one of ...</td>\n",
       "      <td>1</td>\n",
       "    </tr>\n",
       "    <tr>\n",
       "      <th>1</th>\n",
       "      <td>plot : derek zoolander is a male model . he is...</td>\n",
       "      <td>1</td>\n",
       "    </tr>\n",
       "    <tr>\n",
       "      <th>2</th>\n",
       "      <td>i actually am a fan of the original 1961 or so...</td>\n",
       "      <td>1</td>\n",
       "    </tr>\n",
       "    <tr>\n",
       "      <th>3</th>\n",
       "      <td>a movie that's been as highly built up as the ...</td>\n",
       "      <td>1</td>\n",
       "    </tr>\n",
       "    <tr>\n",
       "      <th>4</th>\n",
       "      <td>\" good will hunting \" is two movies in one : ...</td>\n",
       "      <td>1</td>\n",
       "    </tr>\n",
       "    <tr>\n",
       "      <th>...</th>\n",
       "      <td>...</td>\n",
       "      <td>...</td>\n",
       "    </tr>\n",
       "    <tr>\n",
       "      <th>1995</th>\n",
       "      <td>synopsis : when a meteorite crashlands in the ...</td>\n",
       "      <td>0</td>\n",
       "    </tr>\n",
       "    <tr>\n",
       "      <th>1996</th>\n",
       "      <td>it's now the anniversary of the slayings of ju...</td>\n",
       "      <td>0</td>\n",
       "    </tr>\n",
       "    <tr>\n",
       "      <th>1997</th>\n",
       "      <td>coinciding with the emerging popularity of mov...</td>\n",
       "      <td>0</td>\n",
       "    </tr>\n",
       "    <tr>\n",
       "      <th>1998</th>\n",
       "      <td>and now the high-flying hong kong style of fil...</td>\n",
       "      <td>0</td>\n",
       "    </tr>\n",
       "    <tr>\n",
       "      <th>1999</th>\n",
       "      <td>battlefield long , boring and just plain stupi...</td>\n",
       "      <td>0</td>\n",
       "    </tr>\n",
       "  </tbody>\n",
       "</table>\n",
       "<p>2000 rows × 2 columns</p>\n",
       "</div>"
      ],
      "text/plain": [
       "                                                    doc  label\n",
       "0     assume nothing . the phrase is perhaps one of ...      1\n",
       "1     plot : derek zoolander is a male model . he is...      1\n",
       "2     i actually am a fan of the original 1961 or so...      1\n",
       "3     a movie that's been as highly built up as the ...      1\n",
       "4      \" good will hunting \" is two movies in one : ...      1\n",
       "...                                                 ...    ...\n",
       "1995  synopsis : when a meteorite crashlands in the ...      0\n",
       "1996  it's now the anniversary of the slayings of ju...      0\n",
       "1997  coinciding with the emerging popularity of mov...      0\n",
       "1998  and now the high-flying hong kong style of fil...      0\n",
       "1999  battlefield long , boring and just plain stupi...      0\n",
       "\n",
       "[2000 rows x 2 columns]"
      ]
     },
     "execution_count": 22,
     "metadata": {},
     "output_type": "execute_result"
    }
   ],
   "source": [
    "df.head()"
   ]
  },
  {
   "cell_type": "markdown",
   "metadata": {},
   "source": [
    "### 2. Split data into training and test sets\n",
    "Use `sklearn.model_selection.train_test_split` to create **`training_data`** and **`testing_data`**, your testing and training data. Make sure your result is repeatable. Also create 2 new arrays (**`y_test`** and **`y_train`**) that contain the true labels for the samples"
   ]
  },
  {
   "cell_type": "code",
   "execution_count": 24,
   "metadata": {},
   "outputs": [],
   "source": [
    "from sklearn.model_selection import train_test_split\n",
    "\n",
    "# split into training and test\n",
    "..."
   ]
  },
  {
   "cell_type": "markdown",
   "metadata": {},
   "source": [
    "### 3. Use TfidfVectorizer to tranform into tf-idf features\n",
    "Use `sklearn.feature_extraction.text.TfidfVectorizer` to extract features and apply TF-IDF transformation. You will be creating 2 new matrices (**`x_train`** and **`x_test`** that contain the tf-idf values. Be sure you get the dimensions right."
   ]
  },
  {
   "cell_type": "code",
   "execution_count": null,
   "metadata": {},
   "outputs": [],
   "source": [
    "from sklearn.feature_extraction.text import TfidfVectorizer\n",
    "\n",
    "# extract features\n",
    "..."
   ]
  },
  {
   "cell_type": "code",
   "execution_count": null,
   "metadata": {},
   "outputs": [],
   "source": [
    "print(x_train.shape, x_test.shape)"
   ]
  },
  {
   "cell_type": "markdown",
   "metadata": {},
   "source": [
    "### 4. Use `sklearn.linear_model.LogisticRegression` to fit a model to predict probability of positive or negative sentiment. Use those probability to create a vector `y_score` that contains your prediction. Feel free to tweak regression parameters to get your best result"
   ]
  },
  {
   "cell_type": "code",
   "execution_count": null,
   "metadata": {},
   "outputs": [],
   "source": [
    "from sklearn.linear_model import LogisticRegression\n",
    "..."
   ]
  },
  {
   "cell_type": "markdown",
   "metadata": {},
   "source": [
    "### 5. Compute **precision score**, **recall score**, **f1 score**, and **average precision score**.\n",
    "\n",
    "Please print out each value, one per line, at 2 decimal precision."
   ]
  },
  {
   "cell_type": "code",
   "execution_count": 8,
   "metadata": {},
   "outputs": [],
   "source": [
    "# precision, recall, f1, and average precision below\n",
    "..."
   ]
  },
  {
   "cell_type": "markdown",
   "metadata": {},
   "source": [
    "### 6. Plot a precision-recall curve, with recall on the x-axis, and precision on the y-axis.\n",
    "\n",
    "Hint: use `precision_recall_curve` and `plot_precision_recall_curve` from `sklearn.metrics`"
   ]
  },
  {
   "cell_type": "code",
   "execution_count": 9,
   "metadata": {},
   "outputs": [],
   "source": [
    "# plot precision-recall curve\n",
    "..."
   ]
  },
  {
   "cell_type": "markdown",
   "metadata": {},
   "source": [
    "### 7. Plot ROC curve, with false-positive rate on the x-axis, and true-positive rate on the y-axis."
   ]
  },
  {
   "cell_type": "code",
   "execution_count": 11,
   "metadata": {},
   "outputs": [],
   "source": [
    "# Plot ROC curve\n",
    "..."
   ]
  },
  {
   "cell_type": "markdown",
   "metadata": {},
   "source": [
    "### 8. Commentary\n",
    "Please summarize your results, including precision and recall, and describe what modifications you made to improve your results."
   ]
  },
  {
   "cell_type": "markdown",
   "metadata": {},
   "source": [
    "Commentary...."
   ]
  },
  {
   "cell_type": "code",
   "execution_count": null,
   "metadata": {},
   "outputs": [],
   "source": []
  }
 ],
 "metadata": {
  "kernelspec": {
   "display_name": "Python 3",
   "language": "python",
   "name": "python3"
  },
  "language_info": {
   "codemirror_mode": {
    "name": "ipython",
    "version": 3
   },
   "file_extension": ".py",
   "mimetype": "text/x-python",
   "name": "python",
   "nbconvert_exporter": "python",
   "pygments_lexer": "ipython3",
   "version": "3.7.3"
  }
 },
 "nbformat": 4,
 "nbformat_minor": 4
}
